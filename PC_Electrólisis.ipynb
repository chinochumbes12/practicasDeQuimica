{
  "nbformat": 4,
  "nbformat_minor": 0,
  "metadata": {
    "colab": {
      "provenance": [],
      "include_colab_link": true
    },
    "kernelspec": {
      "name": "python3",
      "display_name": "Python 3"
    },
    "language_info": {
      "name": "python"
    }
  },
  "cells": [
    {
      "cell_type": "markdown",
      "metadata": {
        "id": "view-in-github",
        "colab_type": "text"
      },
      "source": [
        "<a href=\"https://colab.research.google.com/github/chinochumbes12/practicasDeQuimica/blob/main/PC_Electr%C3%B3lisis.ipynb\" target=\"_parent\"><img src=\"https://colab.research.google.com/assets/colab-badge.svg\" alt=\"Open In Colab\"/></a>"
      ]
    },
    {
      "cell_type": "markdown",
      "source": [
        "como determinar cual es el ánodo y cual es el cátodo en una reacción de electrolisis en medio basico"
      ],
      "metadata": {
        "id": "vse6fYg0EnUL"
      }
    },
    {
      "cell_type": "code",
      "execution_count": null,
      "metadata": {
        "colab": {
          "base_uri": "https://localhost:8080/"
        },
        "id": "K1puAMx0EiQR",
        "outputId": "2e9cab73-5665-41ed-ec2d-668b7f29d1f9"
      },
      "outputs": [
        {
          "output_type": "stream",
          "name": "stdout",
          "text": [
            "Ánodo: 2H2O(l) -> O2(g) + 4H+(aq) + 4e-\n",
            "Cátodo: 4H2O(l) + 4e- -> 2H2(g) + 4OH-(aq)\n"
          ]
        }
      ],
      "source": [
        "def determinar_anodo_catodo(enlaces_reactivos):\n",
        "    if 'H2O' in enlaces_reactivos:\n",
        "        # La electrólisis del agua puede producir iones hidróxido (OH-) y iones hidrógeno (H+)\n",
        "        anodo = '2H2O(l) -> O2(g) + 4H+(aq) + 4e-'\n",
        "        cátodo = '4H2O(l) + 4e- -> 2H2(g) + 4OH-(aq)'\n",
        "    else:\n",
        "        # Si no es agua, proporciona un mensaje de error\n",
        "        return \"No se reconoce la reacción de electrólisis en medio básico\"\n",
        "\n",
        "    return f\"Ánodo: {anodo}\\nCátodo: {cátodo}\"\n",
        "\n",
        "# Ejemplo de uso con agua\n",
        "enlaces_reactivos_ejemplo = ['H2O']\n",
        "resultado = determinar_anodo_catodo(enlaces_reactivos_ejemplo)\n",
        "print(resultado)\n"
      ]
    },
    {
      "cell_type": "markdown",
      "source": [
        "otro método"
      ],
      "metadata": {
        "id": "O0tCa_mHO4BC"
      }
    },
    {
      "cell_type": "code",
      "source": [
        "def determinar_anodo_catodo(potenciales):\n",
        "    anodo = min(potenciales)\n",
        "    catodo = max(potenciales)\n",
        "\n",
        "    return anodo, catodo\n",
        "\n",
        "potenciales = ['2H2O(l)-> O2(g) + 4H+(aq) + 4e-','4H2O(l) + 4e- ->2H2(g) + 4OH-(aq)']\n",
        "anodo, catodo = determinar_anodo_catodo(potenciales)\n",
        "\n",
        "print(\"El ánodo es:\", anodo)\n",
        "print(\"El cátodo es:\", catodo)"
      ],
      "metadata": {
        "colab": {
          "base_uri": "https://localhost:8080/"
        },
        "id": "2LycxgACOS3O",
        "outputId": "b75cb847-99dd-495d-b003-3fa3fe3cc0da"
      },
      "execution_count": null,
      "outputs": [
        {
          "output_type": "stream",
          "name": "stdout",
          "text": [
            "El ánodo es: 2H2O(l)-> O2(g) + 4H+(aq) + 4e-\n",
            "El cátodo es: 4H2O(l) + 4e- ->2H2(g) + 4OH-(aq)\n"
          ]
        }
      ]
    }
  ]
}